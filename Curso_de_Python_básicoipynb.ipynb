{
  "nbformat": 4,
  "nbformat_minor": 0,
  "metadata": {
    "colab": {
      "provenance": [],
      "authorship_tag": "ABX9TyO/0D2bsp4b2p7GxCy8W959",
      "include_colab_link": true
    },
    "kernelspec": {
      "name": "python3",
      "display_name": "Python 3"
    },
    "language_info": {
      "name": "python"
    }
  },
  "cells": [
    {
      "cell_type": "markdown",
      "metadata": {
        "id": "view-in-github",
        "colab_type": "text"
      },
      "source": [
        "<a href=\"https://colab.research.google.com/github/kinascr/Python-completo/blob/main/Curso_de_Python_b%C3%A1sicoipynb.ipynb\" target=\"_parent\"><img src=\"https://colab.research.google.com/assets/colab-badge.svg\" alt=\"Open In Colab\"/></a>"
      ]
    },
    {
      "cell_type": "markdown",
      "source": [
        "## **Aula 1** - Comentários e Docstring\n",
        "\n",
        "\n",
        "\n",
        "\n"
      ],
      "metadata": {
        "id": "l9WrEfbEBMND"
      }
    },
    {
      "cell_type": "code",
      "execution_count": null,
      "metadata": {
        "id": "nQhAp5Y3Axzy"
      },
      "outputs": [],
      "source": [
        " #Permite escrever um comentári. Obs: só uma linha."
      ]
    },
    {
      "cell_type": "code",
      "source": [
        "print( 'Olá Mundo!' ) #Na frente"
      ],
      "metadata": {
        "colab": {
          "base_uri": "https://localhost:8080/"
        },
        "id": "DE7yBym5BWmf",
        "outputId": "5d35c393-1f34-44dd-ef6f-493ca995b944"
      },
      "execution_count": null,
      "outputs": [
        {
          "output_type": "stream",
          "name": "stdout",
          "text": [
            "Olá Mundo!\n"
          ]
        }
      ]
    },
    {
      "cell_type": "code",
      "source": [
        "#Abaixo"
      ],
      "metadata": {
        "id": "3R3mLRZsBprj"
      },
      "execution_count": null,
      "outputs": []
    },
    {
      "cell_type": "code",
      "source": [
        "\"\"\" Docstring - Usado para escrever minhas notas ou explicar o código. Também posso usar o '''(Aspas simples) \"\"\""
      ],
      "metadata": {
        "id": "OjpL7LN3CDVw"
      },
      "execution_count": null,
      "outputs": []
    },
    {
      "cell_type": "markdown",
      "source": [],
      "metadata": {
        "id": "cxNrdSauBKnR"
      }
    },
    {
      "cell_type": "markdown",
      "source": [
        "## **Aula 2 -** Função Print\n",
        "\n",
        "\n"
      ],
      "metadata": {
        "id": "T_QgT9iEDitN"
      }
    },
    {
      "cell_type": "code",
      "source": [
        "# A funçao print é utilizada para exibir/imprimir."
      ],
      "metadata": {
        "id": "tLVGPwIXGuJX"
      },
      "execution_count": null,
      "outputs": []
    },
    {
      "cell_type": "code",
      "source": [
        "print(12, 34, sep='-') # sep= separador. Usado para separar os argumentos, nesse caso, os argumentos foram separados com o \"-\"\n",
        "print(56, 78)  #Argumentos não nomeados\n"
      ],
      "metadata": {
        "colab": {
          "base_uri": "https://localhost:8080/"
        },
        "id": "6mAwCNVrDiQP",
        "outputId": "442386a5-fe0d-43f8-b93d-f31870fd8a6d"
      },
      "execution_count": null,
      "outputs": [
        {
          "output_type": "stream",
          "name": "stdout",
          "text": [
            "12-34\n",
            "56 78\n"
          ]
        }
      ]
    },
    {
      "cell_type": "code",
      "source": [
        "# Mudando a forma de quebra de linha\n",
        "# \\r\\n -> CRLF Windows\n",
        "print(12, 34, sep='-', end='##\\n')  # end -> O final do print, depois do último argumento.\n",
        "print(56, 78, sep='-')"
      ],
      "metadata": {
        "colab": {
          "base_uri": "https://localhost:8080/"
        },
        "id": "vMj3-FRiG52E",
        "outputId": "825e08d8-cebe-4e81-8883-4998ab0e3a55"
      },
      "execution_count": null,
      "outputs": [
        {
          "output_type": "stream",
          "name": "stdout",
          "text": [
            "12-34##\n",
            "56-78\n"
          ]
        }
      ]
    },
    {
      "cell_type": "markdown",
      "source": [
        "## **Aula 3** - Introdução aos tipos de dados"
      ],
      "metadata": {
        "id": "ihJgQWlYJ_77"
      }
    },
    {
      "cell_type": "code",
      "source": [
        "\"\"\"\n",
        "Python = Linguagem de programação\n",
        "Tipo de tipagem = Dinâmica / Forte -> Já sabe o tipo da informação que esta sendo passada.\n",
        "str -> string -> texto\n",
        "Strings são textos que estão dentro de aspas\n",
        "\"\"\""
      ],
      "metadata": {
        "colab": {
          "base_uri": "https://localhost:8080/",
          "height": 36
        },
        "id": "asdKhpjbH87F",
        "outputId": "6655477f-dcbc-44c0-da9b-336579264207"
      },
      "execution_count": null,
      "outputs": [
        {
          "output_type": "execute_result",
          "data": {
            "text/plain": [
              "'\\nPython = Linguagem de programação\\nTipo de tipagem = Dinâmica / Forte\\nstr -> string -> texto\\nStrings são textos que estão dentro de aspas\\n'"
            ],
            "application/vnd.google.colaboratory.intrinsic+json": {
              "type": "string"
            }
          },
          "metadata": {},
          "execution_count": 15
        }
      ]
    },
    {
      "cell_type": "code",
      "source": [
        "# Aspas simples\n",
        "print('Carolina Santos')\n",
        "# Aspas Duplas\n",
        "print('Carolina Santos' )\n",
        "# Escape\n",
        "print('Carolina \\'Santos' ) # -> \\\n",
        "# r\n",
        "print(r'Carolina \\'Santos' ) # -> r -> Não interpreta os caracteres especiais."
      ],
      "metadata": {
        "colab": {
          "base_uri": "https://localhost:8080/"
        },
        "id": "XMF6yu61Kccp",
        "outputId": "03b8b5d6-51fd-4cd4-92e3-d65532a61ba5"
      },
      "execution_count": 33,
      "outputs": [
        {
          "output_type": "stream",
          "name": "stdout",
          "text": [
            "Carolina Santos\n",
            "Carolina Santos\n",
            "Carolina 'Santos\n",
            "Carolina \\'Santos\n"
          ]
        }
      ]
    },
    {
      "cell_type": "markdown",
      "source": [
        "## **Aula 4** - Tipo int e floas(números)\n",
        "\n",
        "\n"
      ],
      "metadata": {
        "id": "4Do3ajx_RuRO"
      }
    },
    {
      "cell_type": "code",
      "source": [
        "# Tipos de int e float\n",
        "# int -> Número inteiro\n",
        "# O tipo int representa qualquer número\n",
        "# positivo ou negativo. int sem sinal é considerado positivo.\n",
        "print(11) # int\n",
        "print(-11) #int\n",
        "print(0 ) #int"
      ],
      "metadata": {
        "id": "qhBW49XKSiHh"
      },
      "execution_count": null,
      "outputs": []
    },
    {
      "cell_type": "code",
      "source": [
        "# float -> número om ponto flutuante\n",
        "# O tipo float representa qualquer número positivo ou negativo com ponto flutuante.\n",
        "# float sem sinal é considerado positivo.\n",
        "print(1.1, 10.11) #float\n",
        "print(0.0, -1.50) #float"
      ],
      "metadata": {
        "colab": {
          "base_uri": "https://localhost:8080/"
        },
        "id": "hXP8lzwlTVx-",
        "outputId": "25447f0e-4c04-4a95-b627-8919164ecceb"
      },
      "execution_count": null,
      "outputs": [
        {
          "output_type": "stream",
          "name": "stdout",
          "text": [
            "1.1 10.11\n",
            "0.0 -1.5\n"
          ]
        }
      ]
    },
    {
      "cell_type": "markdown",
      "source": [
        "# A função type mostra o tipo que o Python inferiu o valor. type é uma classe.\n",
        "print(type('Carolina'))\n",
        "print(type(11))\n",
        "print(type(1.1), type(-1.1), type(0.0))"
      ],
      "metadata": {
        "id": "9dOU5vhqS33J"
      }
    },
    {
      "cell_type": "markdown",
      "source": [
        "###**Aula 5** - Tipo boll(boolean) - Introdução aos tipos de dados\n",
        "\n",
        "---\n",
        "\n"
      ],
      "metadata": {
        "id": "rRzL_0fPYI_K"
      }
    },
    {
      "cell_type": "code",
      "source": [
        "# Tipo de dado bool (boolean)\n",
        "# Ao questionar algo em um programa, só existem duas respostas possíveis:\n",
        "# sim (True) ou não (False)\n",
        "# Existem vários operadores para \"questionar\".\n",
        "# Dentre eles o ==, que é um operador lógico que questiona se um valor é\n",
        "# igual a outro"
      ],
      "metadata": {
        "id": "kcPFKTjyYIhy"
      },
      "execution_count": null,
      "outputs": []
    },
    {
      "cell_type": "code",
      "source": [
        "print( 10 ==10) # Sim = True\n",
        "print( 10 ==11) # Não = False\n",
        "type(True)\n",
        "print(type(False))"
      ],
      "metadata": {
        "colab": {
          "base_uri": "https://localhost:8080/"
        },
        "id": "sPrVVmd-Y50j",
        "outputId": "a22a6c73-f103-454f-dc1e-49d03db37314"
      },
      "execution_count": null,
      "outputs": [
        {
          "output_type": "stream",
          "name": "stdout",
          "text": [
            "True\n",
            "False\n",
            "<class 'bool'>\n"
          ]
        }
      ]
    },
    {
      "cell_type": "markdown",
      "source": [
        "## **Aula 6** - Coerção de tipos (Convertendo um tipo para o outro)"
      ],
      "metadata": {
        "id": "ghUOLpkbbsMp"
      }
    },
    {
      "cell_type": "code",
      "source": [
        "# conversão de tipos, coerção\n",
        "# type covertion, typecasting, coercio é o ato de converter um tipo em outro\n",
        "# tipos imutáveis e primitivos:\n",
        "# str, ins, float, bool\n",
        "\n"
      ],
      "metadata": {
        "id": "JQi0F1a5b5WR"
      },
      "execution_count": null,
      "outputs": []
    },
    {
      "cell_type": "code",
      "source": [
        "print(int('1'), type(int('1')))\n",
        "print(int(11.1), type(int(11.1)))\n",
        "print(bool(' '))\n",
        "print(str(11)+ 'b')\n"
      ],
      "metadata": {
        "colab": {
          "base_uri": "https://localhost:8080/"
        },
        "id": "jK1_aZv8xk0i",
        "outputId": "f1294532-8c0a-406e-c55f-1ec45236c92e"
      },
      "execution_count": null,
      "outputs": [
        {
          "output_type": "stream",
          "name": "stdout",
          "text": [
            "1 <class 'int'>\n",
            "11 <class 'int'>\n",
            "True\n",
            "11b\n"
          ]
        }
      ]
    },
    {
      "cell_type": "markdown",
      "source": [
        "## **Aula 7** - Introdução às variavéis em Python"
      ],
      "metadata": {
        "id": "YkUDhHxwzkAn"
      }
    },
    {
      "cell_type": "code",
      "source": [
        "# Variáveis são usadas para salvar algo na memória do computador.\n",
        "# PEP8: inicie variáveis com letras minúsculas, pode usar números e underline.\n",
        "# O sinal de = é o operador de atribuição. Ele é usado para atribuir um valor a um nome(variável).\n",
        "# Uso: nome_vaiavel = expressão"
      ],
      "metadata": {
        "id": "EKTpCDMw0ows"
      },
      "execution_count": null,
      "outputs": []
    },
    {
      "cell_type": "markdown",
      "source": [],
      "metadata": {
        "id": "2ByGpoh10Hiy"
      }
    },
    {
      "cell_type": "code",
      "source": [
        "nome_completo = 'Carolina Santos' #variáveis são utiliadas para fazer os códigos mais legíveis e para não\n",
        "print(nome_completo)              #repetir coisas em lugares que iremos usar a mesma coisa.\n"
      ],
      "metadata": {
        "colab": {
          "base_uri": "https://localhost:8080/"
        },
        "id": "8pr81kzm0u4b",
        "outputId": "b91569a9-5204-4c5b-8ca5-dfaec40fe36d"
      },
      "execution_count": null,
      "outputs": [
        {
          "output_type": "stream",
          "name": "stdout",
          "text": [
            "Carolina Santosvariáveis são utiliadas para fazer os códigos mais legíveis e para não repetir coisas em lugares que iremos usar a mesma coisa. \n"
          ]
        }
      ]
    },
    {
      "cell_type": "code",
      "source": [
        "nome = 'Carolina'\n",
        "idade = 30\n",
        "maior_de_idade = idade >= 18\n",
        "print('Nome:', nome, 'Idade:',idade)\n",
        "print('É maior ?', maior_de_idade)"
      ],
      "metadata": {
        "colab": {
          "base_uri": "https://localhost:8080/"
        },
        "id": "j3RoHBRl4eYW",
        "outputId": "3ffad138-5b22-4fd2-f30b-499a09c1ae9a"
      },
      "execution_count": null,
      "outputs": [
        {
          "output_type": "stream",
          "name": "stdout",
          "text": [
            "Nome: Carolina Idade: 30\n",
            "É maior ? True\n"
          ]
        }
      ]
    },
    {
      "cell_type": "markdown",
      "source": [
        "## **Aula 9 - Introdução aos operadores aritméticos (matemática)**"
      ],
      "metadata": {
        "id": "kcYvvVSxnQP8"
      }
    },
    {
      "cell_type": "code",
      "source": [
        "adicao = 10 + 10\n",
        "print('Adição', adicao)\n",
        "\n",
        "subtracao = 10 - 5\n",
        "print('Subtração', subtracao)\n",
        "\n",
        "multiplicacao = 10 * 10\n",
        "print('Multiplicação',  multiplicacao)\n",
        "\n",
        "divisao = 10 / 3 # float\n",
        "print('Divisão', divisao)\n",
        "\n",
        "divisao_inteira = 10 // 3 # int\n",
        "print('Divisão inteira', divisao_inteira)\n",
        "\n",
        "exponenciacao = 2 ** 10\n",
        "print('Exponenciação', exponenciacao)\n",
        "\n",
        "modulo = 55 % 2 #resto da divisão\n",
        "print('Módulo', modulo)"
      ],
      "metadata": {
        "colab": {
          "base_uri": "https://localhost:8080/"
        },
        "id": "pWiOmBtrnPyU",
        "outputId": "e68b7e47-b26b-46e5-8ea6-f6bb5aa634ad"
      },
      "execution_count": null,
      "outputs": [
        {
          "output_type": "stream",
          "name": "stdout",
          "text": [
            "Adição 20\n",
            "Subtração 5\n",
            "Multiplicação 100\n",
            "Divisão 3.3333333333333335\n",
            "Divisão inteira 3\n"
          ]
        }
      ]
    },
    {
      "cell_type": "markdown",
      "source": [
        "## Aula 10 - Concatenação (+) e repetição (*)  com operdores aritméticos"
      ],
      "metadata": {
        "id": "XrbKZjFkjkn0"
      }
    },
    {
      "cell_type": "code",
      "source": [
        "concatenacao = 'Carolina' + ' ' + 'Santos' #\n",
        "print(concatenacao)\n",
        "trs_vezes_carolina = 'Carolina ' * 3\n",
        "a_dez_vezes =' A '* 10\n",
        "print(a_dez_vezes)\n",
        "print(trs_vezes_carolina)"
      ],
      "metadata": {
        "colab": {
          "base_uri": "https://localhost:8080/"
        },
        "id": "imPBfaF2jkLx",
        "outputId": "d275b1f1-c363-4829-e0d4-29177e5727c2"
      },
      "execution_count": null,
      "outputs": [
        {
          "output_type": "stream",
          "name": "stdout",
          "text": [
            "Carolina Santos\n",
            "AAAAAAAAAA\n",
            "Carolina Carolina Carolina \n"
          ]
        }
      ]
    },
    {
      "cell_type": "markdown",
      "source": [
        "## **Aula 11 - Precedência entre os operadores aritméticos**\n"
      ],
      "metadata": {
        "id": "Ab-lXUVip5Qn"
      }
    },
    {
      "cell_type": "code",
      "source": [
        "\n",
        "#1. (n + n)\n",
        "#2. **\n",
        "#3. * / // %\n",
        "#4. + -\n",
        "#\n",
        "\n",
        "\n",
        "conta_1 = 1 + 1 ** 5 + 5\n",
        "print(conta_1)\n",
        "\n",
        "conta_2 = (1 + 1) ** (5 + 5)\n",
        "print(conta_2)\n",
        "#"
      ],
      "metadata": {
        "colab": {
          "base_uri": "https://localhost:8080/"
        },
        "id": "G1O6cXJBr5s3",
        "outputId": "9790518b-f56f-428a-d27b-fed6e7e85992"
      },
      "execution_count": null,
      "outputs": [
        {
          "output_type": "stream",
          "name": "stdout",
          "text": [
            "7\n",
            "1024\n"
          ]
        }
      ]
    },
    {
      "cell_type": "markdown",
      "source": [
        "## **Aula 13 - Introdução às f-strings(formatação de strings)**"
      ],
      "metadata": {
        "id": "A3Np5hTlIzY4"
      }
    },
    {
      "cell_type": "code",
      "source": [
        "nome = 'Carolina'                # as f-strings e uma maneira concisa de incluir variáveis e expressões em strings, são identntificadas pelo prefixo 'f'\n",
        "altura = 1.65\n",
        "peso = 82\n",
        "\n",
        "\n",
        "imc = peso / altura**2\n",
        "\n",
        "linha_1 = f'{nome} tem {altura:.2f} de altura'     # \".2f\" a quantidade de casas decimais, número antes do \"f\" que define.\n",
        "linhas_2= f'pesa {peso} quilos e seu imc é {imc :.2f}'\n",
        "\n",
        "\n",
        "print(linha_1)\n",
        "print(linhas_2)\n"
      ],
      "metadata": {
        "colab": {
          "base_uri": "https://localhost:8080/"
        },
        "id": "ibAEza6UI1LA",
        "outputId": "5a1f3291-c88c-4908-c741-00c9c5b482d8"
      },
      "execution_count": 16,
      "outputs": [
        {
          "output_type": "stream",
          "name": "stdout",
          "text": [
            "Carolina tem 1.65 de altura\n",
            "pesa 82 quilos e seu imc é 30.12\n"
          ]
        }
      ]
    },
    {
      "cell_type": "markdown",
      "source": [
        "## **Aula 14 - Formatação de strings com o método format**"
      ],
      "metadata": {
        "id": "yF4lzSCQR-oo"
      }
    },
    {
      "cell_type": "code",
      "source": [
        "a = 'A'        #O método .format() é chamado em uma string e utiliza chaves {} como marcadores de posição para inserir valores\n",
        "b = 'B'\n",
        "c = '1.1'\n",
        "formato = 'a= {} , b= {}, c= {}' .format(a, b, c)\n",
        "                                                       #posicionamento por padrão\n",
        "print(formato)"
      ],
      "metadata": {
        "id": "fHnaV-zKI6Lo",
        "colab": {
          "base_uri": "https://localhost:8080/"
        },
        "outputId": "1d76656e-82de-4823-e9ff-773be3dbb574"
      },
      "execution_count": 22,
      "outputs": [
        {
          "output_type": "stream",
          "name": "stdout",
          "text": [
            "a= A , b= B, c= 1.1\n"
          ]
        }
      ]
    },
    {
      "cell_type": "code",
      "source": [
        "\n",
        "message = 'Meu nome é {1} e eu tenho {0} anos'.format(34, 'Carolina')           #posicionamento por índice\n",
        "print(message)"
      ],
      "metadata": {
        "colab": {
          "base_uri": "https://localhost:8080/"
        },
        "id": "kLNZJHKvX28U",
        "outputId": "e9f6bcf2-3947-40e2-953c-b008e04fbdbe"
      },
      "execution_count": 25,
      "outputs": [
        {
          "output_type": "stream",
          "name": "stdout",
          "text": [
            "Meu nome é Carolina e eu tenho 34 anos\n"
          ]
        }
      ]
    },
    {
      "cell_type": "code",
      "source": [
        "pi = 3.14159\n",
        "print('O valor de pi é aproximadamente {:.2f}.'.format(pi))    #formatando números"
      ],
      "metadata": {
        "id": "eHDgV5qBY12a"
      },
      "execution_count": null,
      "outputs": []
    },
    {
      "cell_type": "markdown",
      "source": [
        "## **Aula 15 - Usando a função input para coletar dados do usuário**"
      ],
      "metadata": {
        "id": "fTzOclE3wQRe"
      }
    },
    {
      "cell_type": "code",
      "source": [
        "      nome = input('Qual o seu nome? ')                   #função que solicita os dados do usuário\n",
        "      print (f'O seu nome é : {nome}')"
      ],
      "metadata": {
        "colab": {
          "base_uri": "https://localhost:8080/"
        },
        "id": "CiEskVh6wZRj",
        "outputId": "ec9784ce-b411-48a4-9580-fa35afc704aa"
      },
      "execution_count": 29,
      "outputs": [
        {
          "output_type": "stream",
          "name": "stdout",
          "text": [
            "Qual o seu nome? Carol\n",
            "O seu nome é : Carol\n"
          ]
        }
      ]
    },
    {
      "cell_type": "code",
      "source": [
        "numero_1= int(input('Digite um númeor: '))\n",
        "numero_2= int(input('Sigite outro número: '))\n",
        "\n",
        "print(f'A soma dos dois números é: {numero_1+ numero_2}')"
      ],
      "metadata": {
        "colab": {
          "base_uri": "https://localhost:8080/"
        },
        "id": "Ds4GcV-z5ex3",
        "outputId": "4b974bb9-dee5-497c-81b1-709aae414dca"
      },
      "execution_count": 30,
      "outputs": [
        {
          "output_type": "stream",
          "name": "stdout",
          "text": [
            "Digite um númeor: 1\n",
            "Sigite outro número: 2\n",
            "A soma dos dois números é: ,12\n"
          ]
        }
      ]
    }
  ]
}