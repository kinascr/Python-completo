{
  "nbformat": 4,
  "nbformat_minor": 0,
  "metadata": {
    "colab": {
      "provenance": [],
      "authorship_tag": "ABX9TyOyKCZ6bW3cqvnJDhoQpn+K",
      "include_colab_link": true
    },
    "kernelspec": {
      "name": "python3",
      "display_name": "Python 3"
    },
    "language_info": {
      "name": "python"
    }
  },
  "cells": [
    {
      "cell_type": "markdown",
      "metadata": {
        "id": "view-in-github",
        "colab_type": "text"
      },
      "source": [
        "<a href=\"https://colab.research.google.com/github/kinascr/Python-completo/blob/main/Exerc%C3%ADcios_Python_b%C3%A1sico.ipynb\" target=\"_parent\"><img src=\"https://colab.research.google.com/assets/colab-badge.svg\" alt=\"Open In Colab\"/></a>"
      ]
    },
    {
      "cell_type": "markdown",
      "source": [
        "## ***Aula 8 - Exercícios com variáveis e tipos de dados:***\n",
        "\n"
      ],
      "metadata": {
        "id": "5ZBSNLfbi3Uu"
      }
    },
    {
      "cell_type": "code",
      "execution_count": 5,
      "metadata": {
        "id": "K1mROLRXilR8"
      },
      "outputs": [],
      "source": [
        "\n",
        "nome = 'Carolina'\n",
        "sobrenome = 'Santos'\n",
        "idade = 34  # Idade como um número inteiro\n",
        "ano_de_nascimento = 2024 - idade  # Subtração correta usando a idade como inteiro\n",
        "maior_de_idade = idade >= 18  # Comparação usando a idade como inteiro\n",
        "altura_metros = 1.65  # Altura como um número decimal\n",
        "\n",
        "\n"
      ]
    },
    {
      "cell_type": "code",
      "source": [
        "print('Nome: ', nome)\n",
        "print('Idade: ', idade)\n",
        "print('Sobrenome: ', sobrenome)\n",
        "print('Ano de nascimento: ', ano_de_nascimento )\n",
        "print('É maior de idade? ', maior_de_idade)\n",
        "print('Altura em metros: ', altura_metros)"
      ],
      "metadata": {
        "colab": {
          "base_uri": "https://localhost:8080/"
        },
        "id": "OUhmo0Yeivm6",
        "outputId": "382cedf0-014c-4e19-c0c1-c0616367f1f9"
      },
      "execution_count": 6,
      "outputs": [
        {
          "output_type": "stream",
          "name": "stdout",
          "text": [
            "Nome:  Carolina\n",
            "Idade:  34\n",
            "Sobrenome:  Santos\n",
            "Ano de nascimento:  1990\n",
            "É maior de idade?  True\n",
            "Altura em metros:  1.65\n"
          ]
        }
      ]
    },
    {
      "cell_type": "markdown",
      "source": [
        "## Aula 12 - Exercício cálculo de IMC + Elipsis"
      ],
      "metadata": {
        "id": "gzPRpj7asasW"
      }
    },
    {
      "cell_type": "code",
      "source": [
        "nome = input(' Qual seu nome? ' )                  #Solicitando a entrada de dados difetente do exercício, solicitanto o input do usuário.\n",
        "altura =float(input(' Qual sua altura em metros? ' ))    # ... Elipsis, pode ser usado como placeholder, um espaço reservado para inserir algo ainda não pensado no futuro.\n",
        "peso = float(input(' Qual seu peso ? ' ))\n"
      ],
      "metadata": {
        "colab": {
          "base_uri": "https://localhost:8080/"
        },
        "id": "GU5xVvcBsoqx",
        "outputId": "023832fa-37eb-4229-e52e-d84e4131d980"
      },
      "execution_count": 18,
      "outputs": [
        {
          "name": "stdout",
          "output_type": "stream",
          "text": [
            " Qual seu nome? carol\n",
            " Qual sua altura em metros?1.65\n",
            " Qual seu peso ?82\n"
          ]
        }
      ]
    },
    {
      "cell_type": "code",
      "source": [
        "imc = peso / altura**2\n",
        "\n",
        "print( 'Com base nessas informações, caculamos que seu IMC é:' , imc)"
      ],
      "metadata": {
        "colab": {
          "base_uri": "https://localhost:8080/"
        },
        "id": "64Qpts_JtI14",
        "outputId": "b9776b5e-26e8-4380-c5ac-6b5ca3c061de"
      },
      "execution_count": 19,
      "outputs": [
        {
          "output_type": "stream",
          "name": "stdout",
          "text": [
            "Com base nessas informações, caculamos que seu IMC é: 30.119375573921033\n"
          ]
        }
      ]
    }
  ]
}